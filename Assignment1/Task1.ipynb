{
 "cells": [
  {
   "cell_type": "code",
   "execution_count": 21,
   "source": [
    "import pandas as pd\r\n",
    "import numpy as np\r\n",
    "import matplotlib.pyplot as plt\r\n",
    "from sklearn.feature_selection import SelectKBest\r\n",
    "from sklearn.feature_selection import chi2"
   ],
   "outputs": [],
   "metadata": {}
  },
  {
   "cell_type": "code",
   "execution_count": 22,
   "source": [
    "df = pd.read_csv('https://raw.githubusercontent.com/umaimehm/Intro_to_AI_2021/main/assignment1/Ruter_data.csv', sep=';', header=None)\r\n",
    "df.columns = df.iloc[0]\r\n",
    "df=df.drop(df.index[0])\r\n",
    "X = df.iloc[:,2:20]  #independent columns\r\n",
    "y = df.iloc[:,-1]    #target column i.e price range"
   ],
   "outputs": [],
   "metadata": {}
  },
  {
   "cell_type": "code",
   "execution_count": 23,
   "source": [
    "counts = []\r\n",
    "\r\n",
    "for i in df.columns:\r\n",
    "    counts.append(df[i].value_counts())"
   ],
   "outputs": [],
   "metadata": {}
  },
  {
   "cell_type": "markdown",
   "source": [
    "Five Features:\r\n",
    "Fylke, Linjetype, dato, område, kommune\r\n"
   ],
   "metadata": {}
  },
  {
   "cell_type": "code",
   "execution_count": 42,
   "source": [
    "df.isna().sum"
   ],
   "outputs": [
    {
     "output_type": "execute_result",
     "data": {
      "text/plain": [
       "<bound method NDFrame._add_numeric_operations.<locals>.sum of 0     TurId   Dato  Fylke  Område  Kommune  Holdeplass_Fra  Holdeplass_Til  \\\n",
       "1     False  False  False   False    False           False           False   \n",
       "2     False  False  False   False    False           False           False   \n",
       "3     False  False  False   False    False           False           False   \n",
       "4     False  False  False   False    False           False           False   \n",
       "5     False  False  False   False    False           False           False   \n",
       "...     ...    ...    ...     ...      ...             ...             ...   \n",
       "5996  False  False  False   False    False           False           False   \n",
       "5997  False  False  False   False    False           False           False   \n",
       "5998  False  False  False   False    False           False           False   \n",
       "5999  False  False  False   False    False           False           False   \n",
       "6000  False  False  False   False    False           False           False   \n",
       "\n",
       "0     Linjetype  Linjefylke  Linjenavn  Linjeretning  \\\n",
       "1         False       False      False         False   \n",
       "2         False       False      False         False   \n",
       "3         False       False      False         False   \n",
       "4         False       False      False         False   \n",
       "5         False       False      False         False   \n",
       "...         ...         ...        ...           ...   \n",
       "5996      False       False      False         False   \n",
       "5997      False       False      False         False   \n",
       "5998      False       False      False         False   \n",
       "5999      False       False      False         False   \n",
       "6000      False       False      False         False   \n",
       "\n",
       "0     Tidspunkt_Faktisk_Ankomst_Holdeplass_Fra  \\\n",
       "1                                        False   \n",
       "2                                        False   \n",
       "3                                        False   \n",
       "4                                        False   \n",
       "5                                        False   \n",
       "...                                        ...   \n",
       "5996                                     False   \n",
       "5997                                     False   \n",
       "5998                                     False   \n",
       "5999                                     False   \n",
       "6000                                     False   \n",
       "\n",
       "0     Tidspunkt_Faktisk_Avgang_Holdeplass_Fra  \\\n",
       "1                                       False   \n",
       "2                                       False   \n",
       "3                                       False   \n",
       "4                                       False   \n",
       "5                                       False   \n",
       "...                                       ...   \n",
       "5996                                    False   \n",
       "5997                                    False   \n",
       "5998                                    False   \n",
       "5999                                    False   \n",
       "6000                                    False   \n",
       "\n",
       "0     Tidspunkt_Planlagt_Ankomst_Holdeplass_Fra  \\\n",
       "1                                         False   \n",
       "2                                         False   \n",
       "3                                         False   \n",
       "4                                         False   \n",
       "5                                         False   \n",
       "...                                         ...   \n",
       "5996                                      False   \n",
       "5997                                      False   \n",
       "5998                                      False   \n",
       "5999                                      False   \n",
       "6000                                      False   \n",
       "\n",
       "0     Tidspunkt_Planlagt_Avgang_Holdeplass_Fra  Kjøretøy_Kapasitet  \\\n",
       "1                                        False               False   \n",
       "2                                        False               False   \n",
       "3                                        False               False   \n",
       "4                                        False               False   \n",
       "5                                        False               False   \n",
       "...                                        ...                 ...   \n",
       "5996                                     False               False   \n",
       "5997                                     False               False   \n",
       "5998                                     False               False   \n",
       "5999                                     False               False   \n",
       "6000                                     False               False   \n",
       "\n",
       "0     Passasjerer_Ombord  \n",
       "1                  False  \n",
       "2                  False  \n",
       "3                  False  \n",
       "4                  False  \n",
       "5                  False  \n",
       "...                  ...  \n",
       "5996               False  \n",
       "5997               False  \n",
       "5998               False  \n",
       "5999               False  \n",
       "6000               False  \n",
       "\n",
       "[6000 rows x 17 columns]>"
      ]
     },
     "metadata": {},
     "execution_count": 42
    }
   ],
   "metadata": {}
  }
 ],
 "metadata": {
  "orig_nbformat": 4,
  "language_info": {
   "name": "python",
   "version": "3.9.5",
   "mimetype": "text/x-python",
   "codemirror_mode": {
    "name": "ipython",
    "version": 3
   },
   "pygments_lexer": "ipython3",
   "nbconvert_exporter": "python",
   "file_extension": ".py"
  },
  "kernelspec": {
   "name": "python3",
   "display_name": "Python 3.9.5 64-bit ('base': conda)"
  },
  "interpreter": {
   "hash": "897e36f083eb9549d80b9a7caab1d57a19d98861c555cf4d3d5678afacba95e4"
  }
 },
 "nbformat": 4,
 "nbformat_minor": 2
}