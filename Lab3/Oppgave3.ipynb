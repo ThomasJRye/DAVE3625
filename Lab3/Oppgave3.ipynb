{
 "cells": [
  {
   "cell_type": "code",
   "execution_count": 71,
   "source": [
    "from faker import Faker\r\n",
    "import pandas as pd\r\n",
    "import laundromat\r\n",
    "import provider as CreditCardProvider #Add creditcards to faker\r\n"
   ],
   "outputs": [],
   "metadata": {}
  },
  {
   "cell_type": "code",
   "execution_count": 72,
   "source": [
    "fake = Faker(['no_NO']) #Create a faker with norwegian Names and structures\r\n",
    "\r\n",
    "df = pd.DataFrame(columns=['Navn','Adresse', 'PersonNr' ,'CreditCard','ipv4'])\r\n",
    "\r\n",
    "for i in range(100):\r\n",
    "    #Faker calls you will need:\r\n",
    "    row = fake.name(),fake.address(),fake.ssn(),fake.credit_card_number(),fake.ipv4()\r\n",
    "    \r\n",
    "    df.loc[i]=row\r\n"
   ],
   "outputs": [],
   "metadata": {}
  },
  {
   "cell_type": "code",
   "execution_count": 73,
   "source": [
    "textArray = [] #Create a empty array\r\n",
    "i = 0\r\n",
    "for index, row in df.iterrows():\r\n",
    "    if i < 10: \r\n",
    "        name = row[0] \r\n",
    "        adress = row[1]\r\n",
    "        ssn = row[2]\r\n",
    "        cc = row[3]\r\n",
    "        #Using f string we can now create a new string with the values, and\r\n",
    "        #append (add) that string to the text array\r\n",
    "        textArray.append(f'Hi, my name is {name}. I wonder if you deliver to {adress}')\r\n",
    "        i+=1\r\n",
    "    \r\n",
    "        "
   ],
   "outputs": [],
   "metadata": {}
  },
  {
   "cell_type": "code",
   "execution_count": 74,
   "source": [],
   "outputs": [
    {
     "output_type": "execute_result",
     "data": {
      "text/plain": [
       "['Hi, my name is Else Haugland. I wonder if you deliver to Andreassenmyra 5, 0368 Johannesberg',\n",
       " 'Hi, my name is Egil-Tommy Engen. I wonder if you deliver to Kristensentoppen 89, 9720 Joakimberg',\n",
       " 'Hi, my name is Elise Johannessen-Lie. I wonder if you deliver to Bøeholtet 8, 0070 Myhre',\n",
       " 'Hi, my name is Emil Mathisen. I wonder if you deliver to Andersenmyra 97, 6043 Sebastianås',\n",
       " 'Hi, my name is Linn Haugland. I wonder if you deliver to Halvorsenhøgda 7A, 2285 Sæther',\n",
       " 'Hi, my name is Roy Svendsen. I wonder if you deliver to Strandengen 5, 7183 Gulbrandsen',\n",
       " 'Hi, my name is Simen Andersen-Andreassen. I wonder if you deliver to Mikkelsenvollen 789, 0463 Hagen',\n",
       " 'Hi, my name is Wenche Lunde. I wonder if you deliver to Hansenmarka 99, 2536 Haugland',\n",
       " 'Hi, my name is Janne Vik. I wonder if you deliver to Hauglyngen 84, 3324 Sarasund',\n",
       " 'Hi, my name is Dr. Øystein Arnesen. I wonder if you deliver to Myhreengen 2, 4137 Wencheøy']"
      ]
     },
     "metadata": {},
     "execution_count": 74
    }
   ],
   "metadata": {}
  }
 ],
 "metadata": {
  "orig_nbformat": 4,
  "language_info": {
   "name": "python",
   "version": "3.9.5",
   "mimetype": "text/x-python",
   "codemirror_mode": {
    "name": "ipython",
    "version": 3
   },
   "pygments_lexer": "ipython3",
   "nbconvert_exporter": "python",
   "file_extension": ".py"
  },
  "kernelspec": {
   "name": "python3",
   "display_name": "Python 3.9.5 64-bit ('base': conda)"
  },
  "interpreter": {
   "hash": "897e36f083eb9549d80b9a7caab1d57a19d98861c555cf4d3d5678afacba95e4"
  }
 },
 "nbformat": 4,
 "nbformat_minor": 2
}