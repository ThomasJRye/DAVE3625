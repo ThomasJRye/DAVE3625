{
 "cells": [
  {
   "cell_type": "code",
   "execution_count": 4,
   "metadata": {},
   "outputs": [],
   "source": [
    "import matplotlib.pyplot as plt\n",
    "import numpy as np\n",
    "import pandas as pd\n"
   ]
  },
  {
   "cell_type": "markdown",
   "metadata": {},
   "source": [
    "I have decided to use regression rather than classification. Regression is better for this case because we are looking to predict a scalar value(price). Classification is better suited to clustering different variables. "
   ]
  },
  {
   "cell_type": "code",
   "execution_count": 5,
   "metadata": {},
   "outputs": [],
   "source": [
    "df = pd.read_csv('https://raw.githubusercontent.com/ThomasJRye/Intro_to_AI_2021/main/assignment2-machinelearning/TSLA.csv')"
   ]
  },
  {
   "cell_type": "code",
   "execution_count": 6,
   "metadata": {},
   "outputs": [],
   "source": [
    "correlations = df.corr()"
   ]
  },
  {
   "cell_type": "code",
   "execution_count": 7,
   "metadata": {},
   "outputs": [
    {
     "data": {
      "text/html": [
       "<div>\n",
       "<style scoped>\n",
       "    .dataframe tbody tr th:only-of-type {\n",
       "        vertical-align: middle;\n",
       "    }\n",
       "\n",
       "    .dataframe tbody tr th {\n",
       "        vertical-align: top;\n",
       "    }\n",
       "\n",
       "    .dataframe thead th {\n",
       "        text-align: right;\n",
       "    }\n",
       "</style>\n",
       "<table border=\"1\" class=\"dataframe\">\n",
       "  <thead>\n",
       "    <tr style=\"text-align: right;\">\n",
       "      <th></th>\n",
       "      <th>Open</th>\n",
       "      <th>High</th>\n",
       "      <th>Low</th>\n",
       "      <th>Close</th>\n",
       "      <th>Adj Close</th>\n",
       "      <th>Volume</th>\n",
       "    </tr>\n",
       "  </thead>\n",
       "  <tbody>\n",
       "    <tr>\n",
       "      <th>Open</th>\n",
       "      <td>1.000000</td>\n",
       "      <td>0.999763</td>\n",
       "      <td>0.999691</td>\n",
       "      <td>0.999445</td>\n",
       "      <td>0.999445</td>\n",
       "      <td>0.143866</td>\n",
       "    </tr>\n",
       "    <tr>\n",
       "      <th>High</th>\n",
       "      <td>0.999763</td>\n",
       "      <td>1.000000</td>\n",
       "      <td>0.999606</td>\n",
       "      <td>0.999771</td>\n",
       "      <td>0.999771</td>\n",
       "      <td>0.149006</td>\n",
       "    </tr>\n",
       "    <tr>\n",
       "      <th>Low</th>\n",
       "      <td>0.999691</td>\n",
       "      <td>0.999606</td>\n",
       "      <td>1.000000</td>\n",
       "      <td>0.999684</td>\n",
       "      <td>0.999684</td>\n",
       "      <td>0.138580</td>\n",
       "    </tr>\n",
       "    <tr>\n",
       "      <th>Close</th>\n",
       "      <td>0.999445</td>\n",
       "      <td>0.999771</td>\n",
       "      <td>0.999684</td>\n",
       "      <td>1.000000</td>\n",
       "      <td>1.000000</td>\n",
       "      <td>0.144794</td>\n",
       "    </tr>\n",
       "    <tr>\n",
       "      <th>Adj Close</th>\n",
       "      <td>0.999445</td>\n",
       "      <td>0.999771</td>\n",
       "      <td>0.999684</td>\n",
       "      <td>1.000000</td>\n",
       "      <td>1.000000</td>\n",
       "      <td>0.144794</td>\n",
       "    </tr>\n",
       "    <tr>\n",
       "      <th>Volume</th>\n",
       "      <td>0.143866</td>\n",
       "      <td>0.149006</td>\n",
       "      <td>0.138580</td>\n",
       "      <td>0.144794</td>\n",
       "      <td>0.144794</td>\n",
       "      <td>1.000000</td>\n",
       "    </tr>\n",
       "  </tbody>\n",
       "</table>\n",
       "</div>"
      ],
      "text/plain": [
       "               Open      High       Low     Close  Adj Close    Volume\n",
       "Open       1.000000  0.999763  0.999691  0.999445   0.999445  0.143866\n",
       "High       0.999763  1.000000  0.999606  0.999771   0.999771  0.149006\n",
       "Low        0.999691  0.999606  1.000000  0.999684   0.999684  0.138580\n",
       "Close      0.999445  0.999771  0.999684  1.000000   1.000000  0.144794\n",
       "Adj Close  0.999445  0.999771  0.999684  1.000000   1.000000  0.144794\n",
       "Volume     0.143866  0.149006  0.138580  0.144794   0.144794  1.000000"
      ]
     },
     "execution_count": 7,
     "metadata": {},
     "output_type": "execute_result"
    }
   ],
   "source": [
    "correlations"
   ]
  }
 ],
 "metadata": {
  "interpreter": {
   "hash": "897e36f083eb9549d80b9a7caab1d57a19d98861c555cf4d3d5678afacba95e4"
  },
  "kernelspec": {
   "display_name": "Python 3.9.5 64-bit ('base': conda)",
   "name": "python3"
  },
  "language_info": {
   "codemirror_mode": {
    "name": "ipython",
    "version": 3
   },
   "file_extension": ".py",
   "mimetype": "text/x-python",
   "name": "python",
   "nbconvert_exporter": "python",
   "pygments_lexer": "ipython3",
   "version": "3.9.5"
  },
  "orig_nbformat": 4
 },
 "nbformat": 4,
 "nbformat_minor": 2
}
