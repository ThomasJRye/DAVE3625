{
 "cells": [
  {
   "cell_type": "code",
   "execution_count": 16,
   "metadata": {},
   "outputs": [],
   "source": [
    "import matplotlib.pyplot as plt\n",
    "import numpy as np\n",
    "import pandas as pd\n",
    "from sklearn import metrics\n",
    "from sklearn import preprocessing\n",
    "from sklearn.linear_model import LinearRegression\n",
    "from sklearn.model_selection import train_test_split\n",
    "\n"
   ]
  },
  {
   "cell_type": "markdown",
   "metadata": {},
   "source": [
    "I have decided to use regression rather than classification. Regression is better for this case because we are looking to predict a scalar value(price). Classification is better suited to clustering different variables. "
   ]
  },
  {
   "cell_type": "code",
   "execution_count": 2,
   "metadata": {},
   "outputs": [],
   "source": [
    "df = pd.read_csv('https://raw.githubusercontent.com/ThomasJRye/Intro_to_AI_2021/main/assignment2-machinelearning/TSLA.csv')\n",
    "df = df.drop(\"Date\", axis=1)"
   ]
  },
  {
   "cell_type": "code",
   "execution_count": 3,
   "metadata": {},
   "outputs": [],
   "source": [
    "correlations = df.corr()"
   ]
  },
  {
   "cell_type": "code",
   "execution_count": 4,
   "metadata": {},
   "outputs": [
    {
     "data": {
      "text/html": [
       "<div>\n",
       "<style scoped>\n",
       "    .dataframe tbody tr th:only-of-type {\n",
       "        vertical-align: middle;\n",
       "    }\n",
       "\n",
       "    .dataframe tbody tr th {\n",
       "        vertical-align: top;\n",
       "    }\n",
       "\n",
       "    .dataframe thead th {\n",
       "        text-align: right;\n",
       "    }\n",
       "</style>\n",
       "<table border=\"1\" class=\"dataframe\">\n",
       "  <thead>\n",
       "    <tr style=\"text-align: right;\">\n",
       "      <th></th>\n",
       "      <th>Open</th>\n",
       "      <th>High</th>\n",
       "      <th>Low</th>\n",
       "      <th>Close</th>\n",
       "      <th>Adj Close</th>\n",
       "      <th>Volume</th>\n",
       "    </tr>\n",
       "  </thead>\n",
       "  <tbody>\n",
       "    <tr>\n",
       "      <th>Open</th>\n",
       "      <td>1.000000</td>\n",
       "      <td>0.999763</td>\n",
       "      <td>0.999691</td>\n",
       "      <td>0.999445</td>\n",
       "      <td>0.999445</td>\n",
       "      <td>0.143866</td>\n",
       "    </tr>\n",
       "    <tr>\n",
       "      <th>High</th>\n",
       "      <td>0.999763</td>\n",
       "      <td>1.000000</td>\n",
       "      <td>0.999606</td>\n",
       "      <td>0.999771</td>\n",
       "      <td>0.999771</td>\n",
       "      <td>0.149006</td>\n",
       "    </tr>\n",
       "    <tr>\n",
       "      <th>Low</th>\n",
       "      <td>0.999691</td>\n",
       "      <td>0.999606</td>\n",
       "      <td>1.000000</td>\n",
       "      <td>0.999684</td>\n",
       "      <td>0.999684</td>\n",
       "      <td>0.138580</td>\n",
       "    </tr>\n",
       "    <tr>\n",
       "      <th>Close</th>\n",
       "      <td>0.999445</td>\n",
       "      <td>0.999771</td>\n",
       "      <td>0.999684</td>\n",
       "      <td>1.000000</td>\n",
       "      <td>1.000000</td>\n",
       "      <td>0.144794</td>\n",
       "    </tr>\n",
       "    <tr>\n",
       "      <th>Adj Close</th>\n",
       "      <td>0.999445</td>\n",
       "      <td>0.999771</td>\n",
       "      <td>0.999684</td>\n",
       "      <td>1.000000</td>\n",
       "      <td>1.000000</td>\n",
       "      <td>0.144794</td>\n",
       "    </tr>\n",
       "    <tr>\n",
       "      <th>Volume</th>\n",
       "      <td>0.143866</td>\n",
       "      <td>0.149006</td>\n",
       "      <td>0.138580</td>\n",
       "      <td>0.144794</td>\n",
       "      <td>0.144794</td>\n",
       "      <td>1.000000</td>\n",
       "    </tr>\n",
       "  </tbody>\n",
       "</table>\n",
       "</div>"
      ],
      "text/plain": [
       "               Open      High       Low     Close  Adj Close    Volume\n",
       "Open       1.000000  0.999763  0.999691  0.999445   0.999445  0.143866\n",
       "High       0.999763  1.000000  0.999606  0.999771   0.999771  0.149006\n",
       "Low        0.999691  0.999606  1.000000  0.999684   0.999684  0.138580\n",
       "Close      0.999445  0.999771  0.999684  1.000000   1.000000  0.144794\n",
       "Adj Close  0.999445  0.999771  0.999684  1.000000   1.000000  0.144794\n",
       "Volume     0.143866  0.149006  0.138580  0.144794   0.144794  1.000000"
      ]
     },
     "execution_count": 4,
     "metadata": {},
     "output_type": "execute_result"
    }
   ],
   "source": [
    "correlations"
   ]
  },
  {
   "cell_type": "code",
   "execution_count": 5,
   "metadata": {},
   "outputs": [],
   "source": [
    "x = df.values\n",
    "scaler = preprocessing.MinMaxScaler().fit(x)\n",
    "x = scaler.transform(x)\n",
    "df = pd.DataFrame(x)"
   ]
  },
  {
   "cell_type": "code",
   "execution_count": 13,
   "metadata": {},
   "outputs": [],
   "source": [
    "X = pd.DataFrame(df[0]) #Var1\n",
    "y = pd.DataFrame(df[5]) #Result\n",
    "\n",
    "#Now, split the set in training and testing set\n",
    "#test_size = 0.33 tell the function that 1/3 of values should be put in test arrat\n",
    "#Random state is a variable that seeds the random generator. In that way\n",
    "#you'll get the same training and testing set each run\n",
    "X_train, X_test, y_train, y_test = train_test_split(X, y, test_size=0.33, random_state=42)"
   ]
  },
  {
   "cell_type": "code",
   "execution_count": 14,
   "metadata": {},
   "outputs": [],
   "source": [
    "linear_regressor = LinearRegression()  # create object for the class\n",
    "linear_regressor.fit(X_train, y_train)  # perform linear regression\n",
    "Y_pred = linear_regressor.predict(X_train)  # make predictions"
   ]
  },
  {
   "cell_type": "code",
   "execution_count": 17,
   "metadata": {},
   "outputs": [
    {
     "data": {
      "image/png": "[encoded data removed]",
      "text/plain": [
       "<Figure size 432x288 with 1 Axes>"
      ]
     },
     "metadata": {
      "needs_background": "light"
     },
     "output_type": "display_data"
    },
    {
     "name": "stdout",
     "output_type": "stream",
     "text": [
      "MSE = 0.008635909328644898\n"
     ]
    }
   ],
   "source": [
    "plt.scatter(X_train, y_train)             #Plot blue dots with real data\n",
    "plt.plot(X_train, Y_pred, color='red')    #Plot red line with prediction\n",
    "plt.show()                                #Show the plot\n",
    "print( \"MSE = \"+str(metrics.mean_squared_error(y_train,Y_pred))) #Calculate MSE"
   ]
  }
 ],
 "metadata": {
  "interpreter": {
   "hash": "720adea60176264ea4634ab36d493f7332f9957f54f19c1cd344f98033118ef8"
  },
  "kernelspec": {
   "display_name": "Python 3.8.11 64-bit ('dave3625': conda)",
   "name": "python3"
  },
  "language_info": {
   "codemirror_mode": {
    "name": "ipython",
    "version": 3
   },
   "file_extension": ".py",
   "mimetype": "text/x-python",
   "name": "python",
   "nbconvert_exporter": "python",
   "pygments_lexer": "ipython3",
   "version": "3.8.11"
  },
  "orig_nbformat": 4
 },
 "nbformat": 4,
 "nbformat_minor": 2
}
