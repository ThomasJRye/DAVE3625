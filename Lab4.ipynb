{
 "cells": [
  {
   "cell_type": "code",
   "execution_count": null,
   "metadata": {},
   "outputs": [],
   "source": [
    "%matplotlib inline\n",
    "\n",
    "import numpy as np\n",
    "import pandas as pd\n",
    "import matplotlib.pyplot as plt\n",
    "from sklearn import metrics\n",
    "from sklearn import preprocessing\n",
    "from sklearn.linear_model import LinearRegression\n",
    "from sklearn.model_selection import train_test_split"
   ]
  },
  {
   "cell_type": "code",
   "execution_count": null,
   "metadata": {},
   "outputs": [],
   "source": [
    "df = pd.read_csv('https://raw.githubusercontent.com/umaimehm/Intro_to_AI_2021/main/Lab4/data.csv')"
   ]
  },
  {
   "cell_type": "code",
   "execution_count": null,
   "metadata": {},
   "outputs": [],
   "source": [
    "correlations = df.corr()"
   ]
  },
  {
   "cell_type": "code",
   "execution_count": null,
   "metadata": {},
   "outputs": [],
   "source": [
    "correlations"
   ]
  },
  {
   "cell_type": "code",
   "execution_count": null,
   "metadata": {},
   "outputs": [],
   "source": [
    "plt.matshow(correlations)\n",
    "\n",
    "plt.show()"
   ]
  },
  {
   "cell_type": "code",
   "execution_count": null,
   "metadata": {},
   "outputs": [],
   "source": [
    "correlations.style.background_gradient(cmap='coolwarm')\n"
   ]
  },
  {
   "cell_type": "code",
   "execution_count": null,
   "metadata": {},
   "outputs": [],
   "source": [
    "ax1 = df.plot(kind='scatter', x='Var1', y='Result', color='r')    \n",
    "ax2 = df.plot(kind='scatter', x='Var2', y='Result', color='g', ax=ax1)    \n",
    "ax3 = df.plot(kind='scatter', x='Var3', y='Result', color='b', ax=ax1)\n",
    "ax4 = df.plot(kind='scatter', x='Var4', y='Result', color='c', ax=ax1)    \n",
    "ax5 = df.plot(kind='scatter', x='Var5', y='Result', color='m', ax=ax1)    \n",
    "ax6 = df.plot(kind='scatter', x='Var6', y='Result', color='y', ax=ax1)\n"
   ]
  },
  {
   "cell_type": "code",
   "execution_count": null,
   "metadata": {},
   "outputs": [],
   "source": [
    "x = df.values\n",
    "scaler = preprocessing.MinMaxScaler().fit(x)\n",
    "x = scaler.transform(x)\n",
    "df = pd.DataFrame(x)"
   ]
  },
  {
   "cell_type": "code",
   "execution_count": null,
   "metadata": {},
   "outputs": [],
   "source": [
    "df"
   ]
  },
  {
   "cell_type": "code",
   "execution_count": null,
   "metadata": {},
   "outputs": [],
   "source": [
    "#Scatterplot all columns against last column\n",
    "fig, ax = plt.subplots(df.shape[1]-1, figsize=(15, 15)) #Figsize ( length, height )\n",
    "for i in range(df.shape[1]-1):   #This loop is why we wanted to keep column name numeric, and not keep original names\n",
    "    \n",
    "    ax[i].scatter(x = df[i], y = df[6])\n",
    "    ax[i].set_xlabel(\"Column \" + str(i))\n",
    "    ax[i].set_ylabel(\"Y\")\n",
    "fig.tight_layout()\n",
    "plt.show()\n"
   ]
  },
  {
   "cell_type": "code",
   "execution_count": null,
   "metadata": {},
   "outputs": [],
   "source": [
    "x = df.values #returns a numpy array\n",
    "x = scaler.inverse_transform(x)\n",
    "df = pd.DataFrame(x)\n",
    "df.head()"
   ]
  },
  {
   "cell_type": "code",
   "execution_count": null,
   "metadata": {},
   "outputs": [],
   "source": [
    "X = pd.DataFrame(df[0])\n",
    "y = pd.DataFrame(df[6])\n",
    "\n",
    "#Now, split the set in training and testing set\n",
    "#test_size = 0.33 tell the function that 1/3 of values should be put in test arrat\n",
    "#Random state is a variable that seeds the random generator. In that way\n",
    "#you'll get the same training and testing set each run\n",
    "X_train, X_test, y_train, y_test = train_test_split(X, y, test_size=0.33, random_state=42)"
   ]
  },
  {
   "cell_type": "code",
   "execution_count": null,
   "metadata": {},
   "outputs": [],
   "source": [
    "linear_regressor = LinearRegression()\n",
    "linear_regressor.fit(X_train, y_train)\n",
    "Y_pred = linear_regressor.predict(X_train)"
   ]
  },
  {
   "cell_type": "code",
   "execution_count": null,
   "metadata": {},
   "outputs": [],
   "source": [
    "plt.scatter(X_train, y_train)             #Plot blue dots with real data\n",
    "plt.plot(X_train, Y_pred, color='red')    #Plot red line with prediction\n",
    "plt.show()                                #Show the plot\n",
    "print( \"MSE = \"+str(metrics.mean_squared_error(y_train,Y_pred))) #Calculate MSE"
   ]
  },
  {
   "cell_type": "code",
   "execution_count": null,
   "metadata": {},
   "outputs": [],
   "source": [
    "Y_pred = linear_regressor.predict(X_test)\n",
    "plt.scatter(X_test, y_test)\n",
    "plt.plot(X_test, Y_pred, color='red')\n",
    "plt.show\n",
    "print( \"MSE =\"+str(metrics.mean_squared_error(y_test,Y_pred)))"
   ]
  },
  {
   "cell_type": "code",
   "execution_count": null,
   "metadata": {},
   "outputs": [],
   "source": [
    "df[7] = df[0]*df[2]\n",
    "\n",
    "X = pd.DataFrame(df[7])\n",
    "Y = pd.DataFrame(df[6])\n",
    "linear_regressor.fit(X, Y)\n",
    "Y_pred = linear_regressor.predict(X)\n",
    "plt.scatter(X, Y)\n",
    "plt.plot(X, Y_pred, color='red')\n",
    "plt.show()\n",
    "print( \"MSE = \"+str(metrics.mean_squared_error(Y,Y_pred)))\n"
   ]
  },
  {
   "cell_type": "code",
   "execution_count": null,
   "metadata": {},
   "outputs": [],
   "source": [
    "linear_regressor.predict([[95*63]])"
   ]
  },
  {
   "cell_type": "code",
   "execution_count": null,
   "metadata": {},
   "outputs": [],
   "source": [
    "df2 = pd.read_csv(\"https://raw.githubusercontent.com/ThomasJRye/Intro_to_AI_2021/main/Lab4/data_test.csv\")\n",
    "#Make a new column for Var1 * Var3\n",
    "df2[\"Combined\"] = df2[\"Var1\"]*df2[\"Var3\"]"
   ]
  },
  {
   "cell_type": "code",
   "execution_count": null,
   "metadata": {},
   "outputs": [],
   "source": [
    "#Set X to the combined set\n",
    "X = pd.DataFrame(df2[\"Combined\"])\n",
    "#Y to result\n",
    "Y = pd.DataFrame(df2[\"Result\"])\n",
    "#And make sets for Var1 and Var2\n",
    "X1 = pd.DataFrame(df2[\"Var1\"])\n",
    "X2 = pd.DataFrame(df2[\"Var3\"])\n",
    "\n",
    "#And lets do the same for the test set\n",
    "Xt = pd.DataFrame(df[7])\n",
    "X1t = pd.DataFrame(df[0])\n",
    "X2t = pd.DataFrame(df[2])\n",
    "Yt = pd.DataFrame(df[6])\n",
    "#Put the data in list, so we can test the different sets in a for loop\n",
    "dataSet = [X,X1,X2]\n",
    "trainingSet = [Xt,X1t,X2t]"
   ]
  },
  {
   "cell_type": "code",
   "execution_count": null,
   "metadata": {},
   "outputs": [],
   "source": [
    "fig, ax = plt.subplots(3, figsize=(15, 15))\n",
    "models = []\n",
    "caps = [\"Var1*Var2\", \"Var1\", \"Var2\"]\n",
    "MSE = [] # List to save mean square error\n",
    "for i in range(3):\n",
    "    linear_regressor = LinearRegression()\n",
    "    linear_regressor.fit(trainingSet[i], Yt)\n",
    "    Y_pred = linear_regressor.predict(dataSet[i])\n",
    "    ax[i].scatter(dataSet[i], Y)\n",
    "    ax[i].plot(dataSet[i], Y_pred, color='red')\n",
    "    err=metrics.mean_squared_error"
   ]
  },
  {
   "cell_type": "code",
   "execution_count": null,
   "metadata": {},
   "outputs": [],
   "source": [
    "fig, ax = plt.subplots(3, figsize=(15, 15)) #Figsize ( length, height )\n",
    "models = [] #List to save the different model for later use\n",
    "caps = [\"Var1*Var2\", \"Var1\", \"Var2\"] #Caption for the plots\n",
    "MSE = [] #list to save mean square error\n",
    "for i in range(3):  \n",
    "    linear_regressor = LinearRegression()  # create object for the class\n",
    "    linear_regressor.fit(trainingSet[i], Yt)  # perform linear regression\n",
    "    Y_pred = linear_regressor.predict(dataSet[i])  # make predictions\n",
    "    ax[i].scatter(dataSet[i], Y) #Plot blue dots from test set\n",
    "    ax[i].plot(dataSet[i], Y_pred, color='red') #Plot predicted from train\n",
    "    err=metrics.mean_squared_error(Y,Y_pred)\n",
    "    ax[i].set_xlabel(caps[i] + \" MSE = \" +str(err )) #Set caption\n",
    "    ax[i].set_ylabel(\"Y\") #Set y lable\n",
    "    MSE.append(err) #Calculate and save mse for model\n",
    "    models.append(linear_regressor) #Save\n",
    "fig.tight_layout()\n",
    "plt.show()"
   ]
  }
 ],
 "metadata": {
  "interpreter": {
   "hash": "897e36f083eb9549d80b9a7caab1d57a19d98861c555cf4d3d5678afacba95e4"
  },
  "kernelspec": {
   "display_name": "Python 3.9.5 64-bit ('base': conda)",
   "name": "python3"
  },
  "language_info": {
   "codemirror_mode": {
    "name": "ipython",
    "version": 3
   },
   "file_extension": ".py",
   "mimetype": "text/x-python",
   "name": "python",
   "nbconvert_exporter": "python",
   "pygments_lexer": "ipython3",
   "version": "3.9.5"
  },
  "orig_nbformat": 4
 },
 "nbformat": 4,
 "nbformat_minor": 2
}
